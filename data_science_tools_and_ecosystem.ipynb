{
 "cells": [
  {
   "cell_type": "markdown",
   "id": "502d717b",
   "metadata": {},
   "source": [
    "# Data Science Tools and Ecosystem"
   ]
  },
  {
   "cell_type": "markdown",
   "id": "6ec39f53",
   "metadata": {},
   "source": [
    "## Author\n",
    "Isaac Dobes"
   ]
  },
  {
   "cell_type": "markdown",
   "id": "ef1cf7ca",
   "metadata": {},
   "source": [
    "_In this notebook, data science tools and their ecosystems are summarized. Additionally, we review some features of the Jupyter Notebooks._"
   ]
  },
  {
   "cell_type": "markdown",
   "id": "9f0a352c",
   "metadata": {},
   "source": [
    "__Objectives:__\n",
    "- List popular languages for Data Science\n",
    "- List commonly used libraries used by Data Scientists\n",
    "- Show how to do basic arithmetic in the Jupyter Notebook environment"
   ]
  },
  {
   "cell_type": "markdown",
   "id": "7ba0d63a",
   "metadata": {},
   "source": [
    "Some of the popular languages that Data Scientists use are:\n",
    "1. Python\n",
    "2. R\n",
    "3. SQL"
   ]
  },
  {
   "cell_type": "markdown",
   "id": "a3865309",
   "metadata": {},
   "source": [
    "Some of the commonly used libraries used by Data Scientists include:\n",
    "1. Python's Pandas library\n",
    "2. Python's NumPy library\n",
    "3. R's ggplot2 library"
   ]
  },
  {
   "cell_type": "markdown",
   "id": "2c396c0c",
   "metadata": {},
   "source": [
    "| Open Source Data Science Tools |\n",
    "|:------------------------------:|\n",
    "|Anaconda| \n",
    "|Jupyter Notebooks| \n",
    "|RStudio|"
   ]
  },
  {
   "cell_type": "markdown",
   "id": "0b745271",
   "metadata": {},
   "source": [
    "### Below are a few examples of evaluating arithmetic expressions in Python"
   ]
  },
  {
   "cell_type": "code",
   "execution_count": 1,
   "id": "b5867bd5",
   "metadata": {},
   "outputs": [
    {
     "data": {
      "text/plain": [
       "2.0"
      ]
     },
     "execution_count": 1,
     "metadata": {},
     "output_type": "execute_result"
    }
   ],
   "source": [
    "#An example of an arithmetic expression and it output\n",
    "(6-2)/2"
   ]
  },
  {
   "cell_type": "code",
   "execution_count": 2,
   "id": "d19c7e7c",
   "metadata": {},
   "outputs": [
    {
     "data": {
      "text/plain": [
       "(-1+0j)"
      ]
     },
     "execution_count": 2,
     "metadata": {},
     "output_type": "execute_result"
    }
   ],
   "source": [
    "#A more complicated arithmetic expression involving complex numbers\n",
    "#In the Jupyter Notebooks, the imaginary number i is denoted 0+1j\n",
    "(0+1j)*(0+1j)"
   ]
  },
  {
   "cell_type": "code",
   "execution_count": 3,
   "id": "b8d9e604",
   "metadata": {},
   "outputs": [
    {
     "data": {
      "text/plain": [
       "1.4142135623730951"
      ]
     },
     "execution_count": 3,
     "metadata": {},
     "output_type": "execute_result"
    }
   ],
   "source": [
    "#The function pow(x,n) computes x to the power n\n",
    "#Note that it can compute negative and fractional powers\n",
    "pow(2,1/2) "
   ]
  },
  {
   "cell_type": "code",
   "execution_count": 4,
   "id": "f8b189ba",
   "metadata": {},
   "outputs": [
    {
     "data": {
      "text/plain": [
       "0.5"
      ]
     },
     "execution_count": 4,
     "metadata": {},
     "output_type": "execute_result"
    }
   ],
   "source": [
    "pow(2,-1)"
   ]
  },
  {
   "cell_type": "markdown",
   "id": "4bc9bfe6",
   "metadata": {},
   "source": [
    "## Link to this notebook in Github"
   ]
  },
  {
   "cell_type": "markdown",
   "id": "f2c045ee",
   "metadata": {},
   "source": [
    "[My Jupyter Notebook](https://github.com/isaacbd1/My-Jupyter-Notebook)"
   ]
  }
 ],
 "metadata": {
  "kernelspec": {
   "display_name": "Python 3 (ipykernel)",
   "language": "python",
   "name": "python3"
  },
  "language_info": {
   "codemirror_mode": {
    "name": "ipython",
    "version": 3
   },
   "file_extension": ".py",
   "mimetype": "text/x-python",
   "name": "python",
   "nbconvert_exporter": "python",
   "pygments_lexer": "ipython3",
   "version": "3.11.5"
  }
 },
 "nbformat": 4,
 "nbformat_minor": 5
}
