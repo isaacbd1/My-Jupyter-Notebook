{
 "cells": [
  {
   "cell_type": "markdown",
   "id": "9ec85e28",
   "metadata": {},
   "source": [
    "# Data Science Tools and Ecosystem"
   ]
  },
  {
   "cell_type": "markdown",
   "id": "7d2d4460",
   "metadata": {},
   "source": [
    "In this notebook, Data Science Tools and Ecosystem are summarized."
   ]
  },
  {
   "cell_type": "markdown",
   "id": "0e595db0",
   "metadata": {},
   "source": [
    "__Objectives:__\n",
    "- List popular languages for Data Science\n",
    "-List commonly used libraries used by Data Scientists\n",
    "-Show how to do basic arithmetic in the Jupyter Notebook environment"
   ]
  },
  {
   "cell_type": "markdown",
   "id": "def96873",
   "metadata": {},
   "source": [
    "## Author\n",
    "Isaac Dobes"
   ]
  },
  {
   "cell_type": "markdown",
   "id": "81cf3369",
   "metadata": {},
   "source": [
    "Some of the popular languages that Data Scientists use are:\n",
    "1. Python\n",
    "2. R\n",
    "3. SQL"
   ]
  },
  {
   "cell_type": "markdown",
   "id": "ef32a1f2",
   "metadata": {},
   "source": [
    "Some of the commonly used libraries used by Data Scientists include:\n",
    "1. Python's Pandas library\n",
    "2. Python's NumPy library\n",
    "3. R's ggplot2 library"
   ]
  },
  {
   "cell_type": "markdown",
   "id": "23c87f49",
   "metadata": {},
   "source": [
    "| Data Science Tools |\n",
    " -----------------------\n",
    " RStudio \n",
    " Apache Spark \n",
    " TensorFlow  "
   ]
  },
  {
   "cell_type": "markdown",
   "id": "61762a85",
   "metadata": {},
   "source": [
    "### Below are a few examples of evaluating arithmetic expressions in Python"
   ]
  },
  {
   "cell_type": "code",
   "execution_count": 7,
   "id": "b8e06aab",
   "metadata": {},
   "outputs": [
    {
     "data": {
      "text/plain": [
       "17"
      ]
     },
     "execution_count": 7,
     "metadata": {},
     "output_type": "execute_result"
    }
   ],
   "source": [
    "# This a simple arithmetic expression to mutiply then add integers\n",
    "(3*4)+5"
   ]
  },
  {
   "cell_type": "code",
   "execution_count": 8,
   "id": "82ce131e",
   "metadata": {},
   "outputs": [
    {
     "data": {
      "text/plain": [
       "3.3333333333333335"
      ]
     },
     "execution_count": 8,
     "metadata": {},
     "output_type": "execute_result"
    }
   ],
   "source": [
    "# This will convert 200 minutes to hours by diving by 60\n",
    "200/60"
   ]
  }
 ],
 "metadata": {
  "kernelspec": {
   "display_name": "Python 3 (ipykernel)",
   "language": "python",
   "name": "python3"
  },
  "language_info": {
   "codemirror_mode": {
    "name": "ipython",
    "version": 3
   },
   "file_extension": ".py",
   "mimetype": "text/x-python",
   "name": "python",
   "nbconvert_exporter": "python",
   "pygments_lexer": "ipython3",
   "version": "3.11.5"
  }
 },
 "nbformat": 4,
 "nbformat_minor": 5
}
